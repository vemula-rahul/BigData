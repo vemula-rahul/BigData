{
  "nbformat": 4,
  "nbformat_minor": 0,
  "metadata": {
    "colab": {
      "provenance": [],
      "authorship_tag": "ABX9TyMuiw19Lf6Zmy86j6/OUEXe",
      "include_colab_link": true
    },
    "kernelspec": {
      "name": "python3",
      "display_name": "Python 3"
    },
    "language_info": {
      "name": "python"
    }
  },
  "cells": [
    {
      "cell_type": "markdown",
      "metadata": {
        "id": "view-in-github",
        "colab_type": "text"
      },
      "source": [
        "<a href=\"https://colab.research.google.com/github/vemula-rahul/BigData/blob/main/Lists_practice.ipynb\" target=\"_parent\"><img src=\"https://colab.research.google.com/assets/colab-badge.svg\" alt=\"Open In Colab\"/></a>"
      ]
    },
    {
      "cell_type": "code",
      "source": [
        "# @title 1. Randomly select 5 items from the list\n",
        "\n",
        "\n",
        "import random\n",
        "\n",
        "my_list = [1, 2, 3, 4, 5, 6, 7, 8, 9, 10]\n",
        "random_items = random.sample(my_list, 5)\n",
        "\n",
        "print(random_items)"
      ],
      "metadata": {
        "id": "5SPmQ-_gy4LG"
      },
      "execution_count": 1,
      "outputs": []
    },
    {
      "cell_type": "code",
      "source": [
        "# @title 2.Write a Python function get_even_numbers in new_list\n",
        "\n",
        "numbers = [4, 7, 9, 10, 14, 3, 6]\n",
        "# Output should be: [4, 10, 14, 6]\n",
        "\n",
        "def even_list(numbers):\n",
        "  new_list = []\n",
        "  for num in numbers:\n",
        "    if num % 2 == 0:\n",
        "      new_list.append(num)\n",
        "  return new_list\n",
        "\n",
        "result = even_list(numbers)\n",
        "print(result)\n",
        "\n",
        "#using list comprehension\n",
        "even_numbers = [num for num in numbers if num % 2 == 0]\n",
        "print(even_numbers)\n",
        "\n"
      ],
      "metadata": {
        "colab": {
          "base_uri": "https://localhost:8080/"
        },
        "id": "Li25_EhA2DL9",
        "outputId": "b832e6d4-8b34-4c4e-91cb-fa225e012c6e"
      },
      "execution_count": 54,
      "outputs": [
        {
          "output_type": "stream",
          "name": "stdout",
          "text": [
            "[4, 10, 14, 6]\n",
            "[4, 10, 14, 6]\n"
          ]
        }
      ]
    },
    {
      "cell_type": "code",
      "source": [
        "# @title 3.Square of Numbers to a New List\n",
        "numbers = [4, 7, 9, 10, 14, 3, 6]\n",
        "\n",
        "def square_list(numbers):\n",
        "  s_list=[]\n",
        "  for num in numbers:\n",
        "    s_list.append(num**2)\n",
        "\n",
        "  return s_list\n",
        "\n",
        "result = square_list(numbers)\n",
        "print(result)\n",
        "\n",
        "# using list comprehension\n",
        "\n",
        "def squares(numbers):\n",
        "  return [num**2 for num in numbers]\n",
        "print(squares)\n",
        "\n",
        "result1 = squares(numbers)\n",
        "print(result)\n"
      ],
      "metadata": {
        "colab": {
          "base_uri": "https://localhost:8080/"
        },
        "id": "XAlGCawx2uCp",
        "outputId": "0161aecb-5795-4e95-bb06-294837278253"
      },
      "execution_count": 53,
      "outputs": [
        {
          "output_type": "stream",
          "name": "stdout",
          "text": [
            "[16, 49, 81, 100, 196, 9, 36]\n",
            "<function squares at 0x7b702f4aab00>\n",
            "[16, 49, 81, 100, 196, 9, 36]\n"
          ]
        }
      ]
    },
    {
      "cell_type": "code",
      "source": [
        "# @title 4. Filter Strings from List\n",
        "data = [1, \"apple\", 4.5, \"banana\", 3, \"orange\"]\n",
        "\n",
        "def filter_strings(data):\n",
        "    filtered_data = []\n",
        "    for item in data:\n",
        "        if isinstance(item, str):\n",
        "            filtered_data.append(item)\n",
        "    return filtered_data\n",
        "\n",
        "result = filter_strings(data)\n",
        "print(result)\n",
        "\n",
        "# using list comprehension\n",
        "def filter_str(data):\n",
        "  return[ item for item in data if isinstance(item,str)]\n",
        "\n",
        "result = filter_str(data)\n",
        "print(result)\n",
        "\n",
        "# using lambda function\n",
        "\n",
        "def filter_strl(data):\n",
        "  return list(filter(lambda x: isinstance(x,str),data))\n",
        "\n",
        "result = filter_strl(data)\n",
        "print(result)\n"
      ],
      "metadata": {
        "colab": {
          "base_uri": "https://localhost:8080/"
        },
        "id": "G2byILjJ4OFI",
        "outputId": "5b5513a3-30d9-4830-fb19-0255761eeee6"
      },
      "execution_count": 51,
      "outputs": [
        {
          "output_type": "stream",
          "name": "stdout",
          "text": [
            "['apple', 'banana', 'orange']\n"
          ]
        }
      ]
    },
    {
      "cell_type": "code",
      "source": [
        "# @title 5.Numbers Greater Than Average\n",
        "numbers = [10, 20, 30, 40, 50]\n",
        "\n",
        "def greater_than_avg(numbers):\n",
        "  avg = sum(numbers)/len(numbers)\n",
        "  num_avg=[]\n",
        "  for num in numbers:\n",
        "    if num > avg:\n",
        "      num_avg.append(num)\n",
        "  return num_avg\n",
        "\n",
        "\n",
        "result = greater_than_avg(numbers)\n",
        "print(result)\n",
        "\n",
        "#list comprehension\n",
        "def greater_avg(numbers):\n",
        "  avg = sum(numbers)/len(numbers)\n",
        "  return[num for num in numbers if num > avg]\n",
        "\n",
        "result1 = greater_avg(numbers)\n",
        "print(result1)\n",
        "\n",
        "\n"
      ],
      "metadata": {
        "colab": {
          "base_uri": "https://localhost:8080/"
        },
        "id": "MGB8Nz5l9RkU",
        "outputId": "146f135f-5656-4dc4-fa2e-2091ecfd306b"
      },
      "execution_count": 59,
      "outputs": [
        {
          "output_type": "stream",
          "name": "stdout",
          "text": [
            "[40, 50]\n",
            "[40, 50]\n"
          ]
        }
      ]
    },
    {
      "cell_type": "code",
      "source": [
        "# @title 6.Remove Duplicates from a List\n",
        "\n",
        "# easiest using set\n",
        "numbers = [1, 6,6, 2, 2, 3, 4, 4, 5]\n",
        "def set_remove_duplicates(numbers):\n",
        "  return list(set(numbers))\n",
        "\n",
        "result = set_remove_duplicates(numbers)\n",
        "print(result)\n",
        "\n",
        "# using for loop\n",
        "\n",
        "def for_rmv_duplicates(numbers):\n",
        "  unique_list = []\n",
        "  for num in numbers:\n",
        "    if num not in unique_list:\n",
        "      unique_list.append(num)\n",
        "  return unique_list\n",
        "\n",
        "result1 = for_rmv_duplicates(numbers)\n",
        "print(result1)\n",
        "\n",
        "# using dictonary to preserving order from python 3.7\n",
        "\n",
        "def dict_rmv_dplct(numbers):\n",
        "  return list(dict.fromkeys(numbers))\n",
        "\n",
        "result2 = for_rmv_duplicates(numbers)\n",
        "print(result2)\n",
        "\n",
        "# using list comprehension and set\n",
        "\n",
        "def lc_rmv_duplicates(numbers):\n",
        "  u_list = set()\n",
        "  return [num for num in numbers if not (u_list.add(num))]\n",
        "\n",
        "result3 = for_rmv_duplicates(numbers)\n",
        "print(result3)\n"
      ],
      "metadata": {
        "colab": {
          "base_uri": "https://localhost:8080/"
        },
        "id": "qBiwxxVeHgWy",
        "outputId": "fc294f9d-a14d-4310-eb8a-c29040baaee5"
      },
      "execution_count": 69,
      "outputs": [
        {
          "output_type": "stream",
          "name": "stdout",
          "text": [
            "[1, 2, 3, 4, 5, 6]\n",
            "[1, 6, 2, 3, 4, 5]\n",
            "[1, 6, 2, 3, 4, 5]\n",
            "[1, 6, 2, 3, 4, 5]\n"
          ]
        }
      ]
    },
    {
      "cell_type": "code",
      "source": [
        "# @title 7.Strings converted to uppercase in a list\n",
        "strings = [\"hello\", \"world\", \"python\"]\n",
        "uppercase_strings = [s.upper() for s in strings]\n",
        "print(uppercase_strings)\n",
        "\n"
      ],
      "metadata": {
        "colab": {
          "base_uri": "https://localhost:8080/"
        },
        "id": "iTuzwxoezV-T",
        "outputId": "222f2ff2-651b-47fe-a59e-11e98d2f5de9"
      },
      "execution_count": 8,
      "outputs": [
        {
          "output_type": "stream",
          "name": "stdout",
          "text": [
            "['HELLO', 'WORLD', 'PYTHON']\n"
          ]
        }
      ]
    },
    {
      "cell_type": "code",
      "source": [
        "# @title 8.Find Maximum and Minimum in a List\n",
        "\n",
        "numbers = [5, 9, 12, 2, 15, 1]\n",
        "\n",
        "#using built-in function\n",
        "def find_max_min(numbers):\n",
        "  return(max(numbers),min(numbers))\n",
        "\n",
        "result = find_max_min(numbers)\n",
        "print(result)\n",
        "\n",
        "\n",
        "# using for loop\n",
        "def max_min(numbers):\n",
        "  max_num = numbers[0]\n",
        "  min_num =numbers[0]\n",
        "  for num in numbers:\n",
        "    if num > max_num:\n",
        "      max_num = num\n",
        "    if num < min_num:\n",
        "      min_num = num\n",
        "  return (max_num,min_num)\n",
        "result1 = max_min(numbers)\n",
        "print(result1)\n",
        "\n"
      ],
      "metadata": {
        "colab": {
          "base_uri": "https://localhost:8080/"
        },
        "id": "bphtA2Y_KxoF",
        "outputId": "53776b88-1580-4180-dbeb-929b562f4cbc"
      },
      "execution_count": 77,
      "outputs": [
        {
          "output_type": "stream",
          "name": "stdout",
          "text": [
            "(15, 1)\n",
            "(15, 1)\n"
          ]
        }
      ]
    },
    {
      "cell_type": "code",
      "source": [
        "# @title 9. Concatenate two lists\n",
        "list1 = [1, 2, 3]\n",
        "list2 = [4, 5, 6]\n",
        "\n",
        "# using + operator\n",
        "\n",
        "def concatenate_list(list1,list2):\n",
        "  return list1 + list2\n",
        "\n",
        "result = concatenate_list(list1,list2)\n",
        "print(result)\n",
        "\n",
        "\n",
        "# using extend() method\n",
        "\n",
        "def extend_list(list1,list2):\n",
        "  list1_copy =list1.copy()\n",
        "  list1_copy.extend(list2)\n",
        "  return list1_copy\n",
        "\n",
        "result1 = extend_list(list1,list2)\n",
        "print(result1)"
      ],
      "metadata": {
        "colab": {
          "base_uri": "https://localhost:8080/"
        },
        "id": "_CMnVA-MS2I4",
        "outputId": "d5748587-7ed7-45c2-fa7a-c301760c5c92"
      },
      "execution_count": 80,
      "outputs": [
        {
          "output_type": "stream",
          "name": "stdout",
          "text": [
            "[1, 2, 3, 4, 5, 6]\n",
            "[1, 2, 3, 4, 5, 6]\n"
          ]
        }
      ]
    },
    {
      "cell_type": "code",
      "source": [
        "# @title 10.Split List into Two Parts\n",
        "numbers = [1, 2, 3, 4, 5, 6]\n",
        "split_index = 4\n",
        "\n",
        "# Using slicing\n",
        "def split_list(numbers,split_index):\n",
        "  return numbers[:split_index], numbers[split_index:]\n",
        "\n",
        "result = split_list(numbers,split_index)\n",
        "print(result)\n",
        "\n",
        "# Using for loop\n",
        "\n",
        "def for_split_list(numbers,split_index):\n",
        "  first_part = []\n",
        "  second_part = []\n",
        "  for i in range(len(numbers)):\n",
        "    if i < split_index:\n",
        "      first_part.append(numbers[i])\n",
        "    else:\n",
        "      second_part.append(numbers[i])\n",
        "  return first_part, second_part\n",
        "\n",
        "result1 = for_split_list(numbers,split_index)\n",
        "print(result1)\n"
      ],
      "metadata": {
        "colab": {
          "base_uri": "https://localhost:8080/"
        },
        "id": "z64nl9DZY2_m",
        "outputId": "75b77210-a342-4158-b35f-9dc33b8d99b2"
      },
      "execution_count": 84,
      "outputs": [
        {
          "output_type": "stream",
          "name": "stdout",
          "text": [
            "([1, 2, 3, 4], [5, 6])\n",
            "([1, 2, 3, 4], [5, 6])\n"
          ]
        }
      ]
    },
    {
      "cell_type": "code",
      "source": [
        "# @title 11. Rotate List Elements by a number\n",
        "numbers = [1, 2, 3, 4, 5]\n",
        "rotate_by = 2\n",
        "\n",
        "# Using Slicing\n",
        "def rotate_list(numbers, rotate_by):\n",
        "  rotate_by = rotate_by % len(numbers) #  if the rotate_by exceeds length of the numbers\n",
        "  return numbers[-rotate_by:] + numbers[:-rotate_by]\n",
        "\n",
        "result = rotate_list(numbers, rotate_by)\n",
        "print(result)\n",
        "\n",
        "# Using for loop\n",
        "def for_rotate_list(numbers,rotate_by):\n",
        "  rotate_by = rotate_by % len(numbers)\n",
        "  for _ in range(rotate_by):\n",
        "    numbers.insert(0, numbers.pop())\n",
        "  return numbers\n",
        "\n",
        "result1 = for_rotate_list(numbers, rotate_by)\n",
        "print(result1)\n",
        "\n"
      ],
      "metadata": {
        "colab": {
          "base_uri": "https://localhost:8080/"
        },
        "id": "Abhlu5Z8YwFX",
        "outputId": "d6e5a5d6-c11e-4c21-a077-21559639d5bc"
      },
      "execution_count": 86,
      "outputs": [
        {
          "output_type": "stream",
          "name": "stdout",
          "text": [
            "[4, 5, 1, 2, 3]\n",
            "[4, 5, 1, 2, 3]\n"
          ]
        }
      ]
    },
    {
      "cell_type": "code",
      "source": [
        "# @title 12 Count Occurrences of an Element\n",
        "numbers = [1, 3, 4, 3, 3, 5, 6]\n",
        "element = 3\n",
        "\n",
        "# using count() menthod\n",
        "def count_occurances(numbers,element):\n",
        "  return numbers.count(element)\n",
        "\n",
        "result = count_occurances(numbers,element)\n",
        "print(result)\n",
        "\n",
        "# using for loop\n",
        "def for_count_occurance(numbers, element):\n",
        "  count = 0\n",
        "  for x in numbers:\n",
        "    if x == element:\n",
        "      count +=1\n",
        "  return count\n",
        "\n",
        "result1 = for_count_occurance(numbers, element)\n",
        "print(result1)"
      ],
      "metadata": {
        "colab": {
          "base_uri": "https://localhost:8080/"
        },
        "id": "W6ScKK5AYzSJ",
        "outputId": "d73c13c8-ab98-4ea8-967e-96ba7dba4f26"
      },
      "execution_count": 94,
      "outputs": [
        {
          "output_type": "stream",
          "name": "stdout",
          "text": [
            "3\n",
            "3\n"
          ]
        }
      ]
    },
    {
      "cell_type": "code",
      "source": [
        "# @title 13. Find Common Elements Between Two Lists\n",
        "list1 = [1, 2, 3, 4]\n",
        "list2 = [3, 4, 5, 6]\n",
        "\n",
        "# Using set intersection\n",
        "def find_common_elements(list1, list2):\n",
        "    return list(set(list1) & set(list2))\n",
        "\n",
        "result = find_common_elements(list1, list2)\n",
        "print(result)\n",
        "\n",
        "# using for loop\n",
        "def for_common_elements(list1,list2):\n",
        "  common_list = []\n",
        "  for x in list1:\n",
        "    if x in list2:\n",
        "      common_list.append(x)\n",
        "  return common_list\n",
        "\n",
        "result1 = for_common_elements(list1, list2)\n",
        "print(result1)\n",
        "\n",
        "# List comprehension to find common elements\n",
        "result3 = [x for x in list1 if x in list2]\n",
        "print(result3)\n",
        "\n"
      ],
      "metadata": {
        "colab": {
          "base_uri": "https://localhost:8080/"
        },
        "id": "29TcPA-7Yzxw",
        "outputId": "a05926ae-f462-4578-9a2e-1b8fd7f15d2e"
      },
      "execution_count": 101,
      "outputs": [
        {
          "output_type": "stream",
          "name": "stdout",
          "text": [
            "[3, 4]\n",
            "[3, 4]\n",
            "[3, 4]\n"
          ]
        }
      ]
    },
    {
      "cell_type": "code",
      "source": [
        "# @title 14. Check if List is Palindrome\n",
        "numbers = [1, 2, 3, 2, 1]\n",
        "\n",
        "#using Slicing\n",
        "def is_palindrome(numbers):\n",
        "  return numbers == numbers[::-1]\n",
        "\n",
        "\n",
        "result = is_palindrome(numbers)\n",
        "print(result)\n",
        "\n",
        "#using for loop\n",
        "\n",
        "def for_is_palindrome(numbers):\n",
        "  for i in range(len(numbers)// 2):\n",
        "    if numbers[i] != numbers[-(i +1)]:\n",
        "      return False\n",
        "  return True\n",
        "\n",
        "result1 = for_is_palindrome(numbers)\n",
        "print(result1)\n",
        "\n",
        "\n"
      ],
      "metadata": {
        "colab": {
          "base_uri": "https://localhost:8080/"
        },
        "id": "hi2y6lIsY0E8",
        "outputId": "ed59daf4-c27c-4578-db4c-8bab66a37cbd"
      },
      "execution_count": 111,
      "outputs": [
        {
          "output_type": "stream",
          "name": "stdout",
          "text": [
            "True\n",
            "True\n"
          ]
        }
      ]
    },
    {
      "cell_type": "code",
      "source": [
        "# @title 15. Reverse a List\n",
        "numbers = [10, 20, 30, 40, 50]\n",
        "\n",
        "#using Slicing\n",
        "def reverse_list(numbers):\n",
        "  return numbers[::-1]\n",
        "\n",
        "result = reverse_list(numbers)\n",
        "print(result)\n",
        "\n",
        "#using reverse() method\n",
        "\n",
        "def reverse_list1(numbers):\n",
        "  numbers_copy = numbers.copy()\n",
        "  numbers_copy.reverse()\n",
        "  return numbers_copy\n",
        "\n",
        "result1 = reverse_list1(numbers)\n",
        "print(result1)\n"
      ],
      "metadata": {
        "colab": {
          "base_uri": "https://localhost:8080/"
        },
        "id": "naVF8COqY0Vn",
        "outputId": "7fce04db-6660-4e96-867b-ae0d8d39fc81"
      },
      "execution_count": 114,
      "outputs": [
        {
          "output_type": "stream",
          "name": "stdout",
          "text": [
            "[50, 40, 30, 20, 10]\n",
            "[50, 40, 30, 20, 10]\n"
          ]
        }
      ]
    },
    {
      "cell_type": "code",
      "source": [
        "# @title 16.Find the Second Largest Element\n",
        "numbers = [8, 4, 6, 12, 2, 10]\n",
        "\n",
        "# using sorting\n",
        "def second_large_num(numbers):\n",
        "  unique_list = list(set(numbers))\n",
        "  unique_list.sort()\n",
        "  return unique_list[-2]\n",
        "\n",
        "result = second_large_num(numbers)\n",
        "print(result)\n",
        "\n",
        "#using for loop\n",
        "def find_second_largest(numbers):\n",
        "  first = second = float('-inf')\n",
        "  for num in numbers:\n",
        "    if num > first:\n",
        "      first = num\n",
        "    elif first > num > second:\n",
        "      second = num\n",
        "  return second\n",
        "\n",
        "result1 = find_second_largest(numbers)\n",
        "print(result1)\n",
        "\n",
        "\n"
      ],
      "metadata": {
        "colab": {
          "base_uri": "https://localhost:8080/"
        },
        "id": "abwEp9vrY0qG",
        "outputId": "6f957974-16e4-4063-dc51-a3b6910ce655"
      },
      "execution_count": 116,
      "outputs": [
        {
          "output_type": "stream",
          "name": "stdout",
          "text": [
            "10\n",
            "10\n"
          ]
        }
      ]
    },
    {
      "cell_type": "code",
      "source": [
        "# @title 17. Flatten a Nested List\n",
        "nested_list = [[1, 2, 3], [4, 5], [6, 7, 8, 9]]\n",
        "\n",
        "#using list comprehension\n",
        "def flatten_list(nested_list):\n",
        "    return [item for sublist in nested_list for item in sublist]\n",
        "\n",
        "result = flatten_list(nested_list)\n",
        "print(result)\n",
        "\n",
        "# Using a for loop\n",
        "\n",
        "def for_flatten_list(nested_list):\n",
        "  flat_list = []\n",
        "  for sublist in nested_list:\n",
        "    for item in sublist:\n",
        "      flat_list.append(item)\n",
        "  return flat_list\n",
        "\n",
        "result1 = for_flatten_list(nested_list)\n",
        "print(result1)\n",
        "\n",
        "\n"
      ],
      "metadata": {
        "colab": {
          "base_uri": "https://localhost:8080/"
        },
        "id": "F0exx61uHo74",
        "outputId": "ddee3893-7333-4af6-ed23-b2ba929aa712"
      },
      "execution_count": 117,
      "outputs": [
        {
          "output_type": "stream",
          "name": "stdout",
          "text": [
            "[1, 2, 3, 4, 5, 6, 7, 8, 9]\n",
            "[1, 2, 3, 4, 5, 6, 7, 8, 9]\n"
          ]
        }
      ]
    }
  ]
}